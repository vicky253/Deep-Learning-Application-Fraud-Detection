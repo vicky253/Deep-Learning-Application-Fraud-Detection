{
 "cells": [
  {
   "cell_type": "markdown",
   "metadata": {},
   "source": [
    "## Mobile Payments Fraud Detection Using Arificial Neural Networks"
   ]
  },
  {
   "cell_type": "code",
   "execution_count": 1,
   "metadata": {},
   "outputs": [
    {
     "name": "stdout",
     "output_type": "stream",
     "text": [
      "2.0.0\n"
     ]
    }
   ],
   "source": [
    "import tensorflow as tf\n",
    "from tensorflow import keras\n",
    "from tensorflow.keras import Sequential, regularizers\n",
    "from tensorflow.keras.layers import Dense, Dropout, InputLayer\n",
    "from tensorflow.keras.callbacks import ModelCheckpoint\n",
    "from tensorflow.keras.models import clone_model\n",
    "print(tf.__version__)"
   ]
  },
  {
   "cell_type": "code",
   "execution_count": 2,
   "metadata": {},
   "outputs": [
    {
     "name": "stderr",
     "output_type": "stream",
     "text": [
      "Using TensorFlow backend.\n"
     ]
    }
   ],
   "source": [
    "import pandas as pd\n",
    "import numpy as np\n",
    "from matplotlib import style\n",
    "style.use('ggplot') # optional dark_background for dark theme\n",
    "import matplotlib.pyplot as plt\n",
    "%matplotlib inline\n",
    "from sklearn.model_selection import train_test_split\n",
    "from sklearn.preprocessing import StandardScaler, MinMaxScaler\n",
    "from imblearn.over_sampling import SMOTE"
   ]
  },
  {
   "cell_type": "code",
   "execution_count": 3,
   "metadata": {},
   "outputs": [],
   "source": [
    "def plot_learningCurve(history, epoch, metric='binary_accuracy'):\n",
    "    metric_title = metric.replace('_',' ').title()\n",
    "    # Plot training & validation accuracy values\n",
    "    epoch_range = range(1, epoch+1)\n",
    "    plt.plot(epoch_range, history.history[metric])\n",
    "    plt.plot(epoch_range, history.history['val_'+metric])\n",
    "    plt.title('Model '+metric_title)\n",
    "    plt.ylabel(metric_title)\n",
    "    plt.xlabel('Epoch')\n",
    "    plt.legend(['Train', 'Val'], loc='upper left')\n",
    "    plt.show()\n",
    "    # Plot training & validation loss values\n",
    "    plt.plot(epoch_range, history.history['loss'])\n",
    "    plt.plot(epoch_range, history.history['val_loss'])\n",
    "    plt.title('Model Loss')\n",
    "    plt.ylabel('Loss')\n",
    "    plt.xlabel('Epoch')\n",
    "    plt.legend(['Train', 'Val'], loc='upper left')\n",
    "    plt.show()"
   ]
  },
  {
   "cell_type": "code",
   "execution_count": 4,
   "metadata": {},
   "outputs": [],
   "source": [
    "from sklearn.metrics import confusion_matrix\n",
    "def print_confusion_matrix(testset,predictions):\n",
    "    conmat=pd.DataFrame(confusion_matrix(testset, predictions, labels=[1,0]),\n",
    "                        index=['Actual Fraud','Actual Non-Fraud'],\n",
    "                        columns=['Pred Fraud','Pred Non-Fraud'])\n",
    "    TP=conmat.iloc[0,0]/(conmat.iloc[0,0]+conmat.iloc[0,1])\n",
    "    FN=conmat.iloc[0,1]/(conmat.iloc[0,0]+conmat.iloc[0,1])\n",
    "    TN=conmat.iloc[1,1]/(conmat.iloc[1,0]+conmat.iloc[1,1])\n",
    "    FP=conmat.iloc[1,0]/(conmat.iloc[1,0]+conmat.iloc[1,1])\n",
    "    print('Percent of true positives: {:.2%}'.format(TP))\n",
    "    print('Percent of false negatives: {:.2%}'.format(FN))\n",
    "    print('Percent of true negatives: {:.2%}'.format(TN))\n",
    "    print('Percent of false positives: {:.2%}'.format(FP))\n",
    "    return conmat"
   ]
  },
  {
   "cell_type": "code",
   "execution_count": 35,
   "metadata": {},
   "outputs": [],
   "source": [
    "# below are some constant settings for all the models which our team experimented on\n",
    "batch_bin=32\n",
    "num_epochs=5\n",
    "train_pct=0.8\n",
    "validate_pct=0.2\n",
    "learning_rate = 1e-3\n",
    "loss_function='binary_crossentropy'\n",
    "optimization_function='RMSProp'\n",
    "metric='binary_accuracy'"
   ]
  },
  {
   "cell_type": "markdown",
   "metadata": {},
   "source": [
    "### PaySim EDA"
   ]
  },
  {
   "cell_type": "code",
   "execution_count": 6,
   "metadata": {},
   "outputs": [
    {
     "data": {
      "text/html": [
       "<div>\n",
       "<style scoped>\n",
       "    .dataframe tbody tr th:only-of-type {\n",
       "        vertical-align: middle;\n",
       "    }\n",
       "\n",
       "    .dataframe tbody tr th {\n",
       "        vertical-align: top;\n",
       "    }\n",
       "\n",
       "    .dataframe thead th {\n",
       "        text-align: right;\n",
       "    }\n",
       "</style>\n",
       "<table border=\"1\" class=\"dataframe\">\n",
       "  <thead>\n",
       "    <tr style=\"text-align: right;\">\n",
       "      <th></th>\n",
       "      <th>step</th>\n",
       "      <th>type</th>\n",
       "      <th>amount</th>\n",
       "      <th>nameOrig</th>\n",
       "      <th>oldbalanceOrg</th>\n",
       "      <th>newbalanceOrig</th>\n",
       "      <th>nameDest</th>\n",
       "      <th>oldbalanceDest</th>\n",
       "      <th>newbalanceDest</th>\n",
       "      <th>isFraud</th>\n",
       "      <th>isFlaggedFraud</th>\n",
       "    </tr>\n",
       "  </thead>\n",
       "  <tbody>\n",
       "    <tr>\n",
       "      <th>0</th>\n",
       "      <td>1</td>\n",
       "      <td>PAYMENT</td>\n",
       "      <td>9839.64</td>\n",
       "      <td>C1231006815</td>\n",
       "      <td>170136.0</td>\n",
       "      <td>160296.36</td>\n",
       "      <td>M1979787155</td>\n",
       "      <td>0.0</td>\n",
       "      <td>0.0</td>\n",
       "      <td>0</td>\n",
       "      <td>0</td>\n",
       "    </tr>\n",
       "    <tr>\n",
       "      <th>1</th>\n",
       "      <td>1</td>\n",
       "      <td>PAYMENT</td>\n",
       "      <td>1864.28</td>\n",
       "      <td>C1666544295</td>\n",
       "      <td>21249.0</td>\n",
       "      <td>19384.72</td>\n",
       "      <td>M2044282225</td>\n",
       "      <td>0.0</td>\n",
       "      <td>0.0</td>\n",
       "      <td>0</td>\n",
       "      <td>0</td>\n",
       "    </tr>\n",
       "    <tr>\n",
       "      <th>2</th>\n",
       "      <td>1</td>\n",
       "      <td>TRANSFER</td>\n",
       "      <td>181.00</td>\n",
       "      <td>C1305486145</td>\n",
       "      <td>181.0</td>\n",
       "      <td>0.00</td>\n",
       "      <td>C553264065</td>\n",
       "      <td>0.0</td>\n",
       "      <td>0.0</td>\n",
       "      <td>1</td>\n",
       "      <td>0</td>\n",
       "    </tr>\n",
       "    <tr>\n",
       "      <th>3</th>\n",
       "      <td>1</td>\n",
       "      <td>CASH_OUT</td>\n",
       "      <td>181.00</td>\n",
       "      <td>C840083671</td>\n",
       "      <td>181.0</td>\n",
       "      <td>0.00</td>\n",
       "      <td>C38997010</td>\n",
       "      <td>21182.0</td>\n",
       "      <td>0.0</td>\n",
       "      <td>1</td>\n",
       "      <td>0</td>\n",
       "    </tr>\n",
       "    <tr>\n",
       "      <th>4</th>\n",
       "      <td>1</td>\n",
       "      <td>PAYMENT</td>\n",
       "      <td>11668.14</td>\n",
       "      <td>C2048537720</td>\n",
       "      <td>41554.0</td>\n",
       "      <td>29885.86</td>\n",
       "      <td>M1230701703</td>\n",
       "      <td>0.0</td>\n",
       "      <td>0.0</td>\n",
       "      <td>0</td>\n",
       "      <td>0</td>\n",
       "    </tr>\n",
       "  </tbody>\n",
       "</table>\n",
       "</div>"
      ],
      "text/plain": [
       "   step      type    amount     nameOrig  oldbalanceOrg  newbalanceOrig  \\\n",
       "0     1   PAYMENT   9839.64  C1231006815       170136.0       160296.36   \n",
       "1     1   PAYMENT   1864.28  C1666544295        21249.0        19384.72   \n",
       "2     1  TRANSFER    181.00  C1305486145          181.0            0.00   \n",
       "3     1  CASH_OUT    181.00   C840083671          181.0            0.00   \n",
       "4     1   PAYMENT  11668.14  C2048537720        41554.0        29885.86   \n",
       "\n",
       "      nameDest  oldbalanceDest  newbalanceDest  isFraud  isFlaggedFraud  \n",
       "0  M1979787155             0.0             0.0        0               0  \n",
       "1  M2044282225             0.0             0.0        0               0  \n",
       "2   C553264065             0.0             0.0        1               0  \n",
       "3    C38997010         21182.0             0.0        1               0  \n",
       "4  M1230701703             0.0             0.0        0               0  "
      ]
     },
     "execution_count": 6,
     "metadata": {},
     "output_type": "execute_result"
    }
   ],
   "source": [
    "data = pd.read_csv('PS_20174392719_1491204439457_log.csv')\n",
    "data.head()"
   ]
  },
  {
   "cell_type": "code",
   "execution_count": 5,
   "metadata": {},
   "outputs": [
    {
     "data": {
      "text/plain": [
       "Index(['step', 'type', 'amount', 'nameOrig', 'oldbalanceOrg', 'newbalanceOrig',\n",
       "       'nameDest', 'oldbalanceDest', 'newbalanceDest', 'isFraud',\n",
       "       'isFlaggedFraud'],\n",
       "      dtype='object')"
      ]
     },
     "execution_count": 5,
     "metadata": {},
     "output_type": "execute_result"
    }
   ],
   "source": [
    "data.columns"
   ]
  },
  {
   "cell_type": "code",
   "execution_count": 7,
   "metadata": {},
   "outputs": [
    {
     "data": {
      "text/plain": [
       "(6362620, 11)"
      ]
     },
     "execution_count": 7,
     "metadata": {},
     "output_type": "execute_result"
    }
   ],
   "source": [
    "data.shape"
   ]
  },
  {
   "cell_type": "code",
   "execution_count": 8,
   "metadata": {},
   "outputs": [
    {
     "data": {
      "text/plain": [
       "step              0\n",
       "type              0\n",
       "amount            0\n",
       "nameOrig          0\n",
       "oldbalanceOrg     0\n",
       "newbalanceOrig    0\n",
       "nameDest          0\n",
       "oldbalanceDest    0\n",
       "newbalanceDest    0\n",
       "isFraud           0\n",
       "isFlaggedFraud    0\n",
       "dtype: int64"
      ]
     },
     "execution_count": 8,
     "metadata": {},
     "output_type": "execute_result"
    }
   ],
   "source": [
    "data.isnull().sum()"
   ]
  },
  {
   "cell_type": "code",
   "execution_count": 9,
   "metadata": {
    "scrolled": true
   },
   "outputs": [
    {
     "name": "stdout",
     "output_type": "stream",
     "text": [
      "<class 'pandas.core.frame.DataFrame'>\n",
      "RangeIndex: 6362620 entries, 0 to 6362619\n",
      "Data columns (total 11 columns):\n",
      "step              int64\n",
      "type              object\n",
      "amount            float64\n",
      "nameOrig          object\n",
      "oldbalanceOrg     float64\n",
      "newbalanceOrig    float64\n",
      "nameDest          object\n",
      "oldbalanceDest    float64\n",
      "newbalanceDest    float64\n",
      "isFraud           int64\n",
      "isFlaggedFraud    int64\n",
      "dtypes: float64(5), int64(3), object(3)\n",
      "memory usage: 534.0+ MB\n"
     ]
    }
   ],
   "source": [
    "data.info()"
   ]
  },
  {
   "cell_type": "code",
   "execution_count": 10,
   "metadata": {},
   "outputs": [
    {
     "data": {
      "text/plain": [
       "step                  743\n",
       "type                    5\n",
       "nameOrig          6353307\n",
       "nameDest          2722362\n",
       "isFraud                 2\n",
       "isFlaggedFraud          2\n",
       "dtype: int64"
      ]
     },
     "execution_count": 10,
     "metadata": {},
     "output_type": "execute_result"
    }
   ],
   "source": [
    "data[['step','type','nameOrig','nameDest','isFraud','isFlaggedFraud']].nunique()"
   ]
  },
  {
   "cell_type": "code",
   "execution_count": 11,
   "metadata": {},
   "outputs": [
    {
     "data": {
      "text/html": [
       "<div>\n",
       "<style scoped>\n",
       "    .dataframe tbody tr th:only-of-type {\n",
       "        vertical-align: middle;\n",
       "    }\n",
       "\n",
       "    .dataframe tbody tr th {\n",
       "        vertical-align: top;\n",
       "    }\n",
       "\n",
       "    .dataframe thead th {\n",
       "        text-align: right;\n",
       "    }\n",
       "</style>\n",
       "<table border=\"1\" class=\"dataframe\">\n",
       "  <thead>\n",
       "    <tr style=\"text-align: right;\">\n",
       "      <th></th>\n",
       "      <th></th>\n",
       "      <th></th>\n",
       "      <th>count</th>\n",
       "    </tr>\n",
       "    <tr>\n",
       "      <th>type</th>\n",
       "      <th>isFraud</th>\n",
       "      <th>isFlaggedFraud</th>\n",
       "      <th></th>\n",
       "    </tr>\n",
       "  </thead>\n",
       "  <tbody>\n",
       "    <tr>\n",
       "      <th>CASH_IN</th>\n",
       "      <th>0</th>\n",
       "      <th>0</th>\n",
       "      <td>1399284</td>\n",
       "    </tr>\n",
       "    <tr>\n",
       "      <th rowspan=\"2\" valign=\"top\">CASH_OUT</th>\n",
       "      <th>0</th>\n",
       "      <th>0</th>\n",
       "      <td>2233384</td>\n",
       "    </tr>\n",
       "    <tr>\n",
       "      <th>1</th>\n",
       "      <th>0</th>\n",
       "      <td>4116</td>\n",
       "    </tr>\n",
       "    <tr>\n",
       "      <th>DEBIT</th>\n",
       "      <th>0</th>\n",
       "      <th>0</th>\n",
       "      <td>41432</td>\n",
       "    </tr>\n",
       "    <tr>\n",
       "      <th>PAYMENT</th>\n",
       "      <th>0</th>\n",
       "      <th>0</th>\n",
       "      <td>2151495</td>\n",
       "    </tr>\n",
       "    <tr>\n",
       "      <th rowspan=\"3\" valign=\"top\">TRANSFER</th>\n",
       "      <th>0</th>\n",
       "      <th>0</th>\n",
       "      <td>528812</td>\n",
       "    </tr>\n",
       "    <tr>\n",
       "      <th rowspan=\"2\" valign=\"top\">1</th>\n",
       "      <th>0</th>\n",
       "      <td>4081</td>\n",
       "    </tr>\n",
       "    <tr>\n",
       "      <th>1</th>\n",
       "      <td>16</td>\n",
       "    </tr>\n",
       "  </tbody>\n",
       "</table>\n",
       "</div>"
      ],
      "text/plain": [
       "                                   count\n",
       "type     isFraud isFlaggedFraud         \n",
       "CASH_IN  0       0               1399284\n",
       "CASH_OUT 0       0               2233384\n",
       "         1       0                  4116\n",
       "DEBIT    0       0                 41432\n",
       "PAYMENT  0       0               2151495\n",
       "TRANSFER 0       0                528812\n",
       "         1       0                  4081\n",
       "                 1                    16"
      ]
     },
     "execution_count": 11,
     "metadata": {},
     "output_type": "execute_result"
    }
   ],
   "source": [
    "data.groupby(['type','isFraud','isFlaggedFraud'])[['isFraud']].count().rename(columns={'isFraud':'count'})"
   ]
  },
  {
   "cell_type": "markdown",
   "metadata": {},
   "source": [
    "### Data Preprocessing"
   ]
  },
  {
   "cell_type": "code",
   "execution_count": 7,
   "metadata": {},
   "outputs": [],
   "source": [
    "# one-hot encoding for the categorical 'type' variable\n",
    "dummies = pd.get_dummies(data['type'])\n",
    "data2 = pd.concat([data[['step','amount','oldbalanceOrg','newbalanceOrig','oldbalanceDest','newbalanceDest',\n",
    "                        'isFraud']],dummies],axis=1)"
   ]
  },
  {
   "cell_type": "code",
   "execution_count": 8,
   "metadata": {},
   "outputs": [],
   "source": [
    "# split data 80-20 across training and testing datasets\n",
    "x_train, x_test, y_train, y_test = train_test_split(data2.loc[:,data2.columns!='isFraud'],\n",
    "                                                    data2.loc[:,data2.columns=='isFraud'],\n",
    "                                                    test_size=validate_pct,train_size=train_pct)"
   ]
  },
  {
   "cell_type": "code",
   "execution_count": 9,
   "metadata": {},
   "outputs": [],
   "source": [
    "# rescale datasets using StandardScaler on the training datasets\n",
    "standard = StandardScaler()\n",
    "standard_x_train = standard.fit_transform(x_train)\n",
    "standard_x_test = standard.transform(x_test)"
   ]
  },
  {
   "cell_type": "code",
   "execution_count": 10,
   "metadata": {},
   "outputs": [],
   "source": [
    "# rescale datasets using MinMaxScaler on the training datasets\n",
    "minmax = MinMaxScaler()\n",
    "minmax_x_train = minmax.fit_transform(x_train)\n",
    "minmax_x_test = minmax.transform(x_test)"
   ]
  },
  {
   "cell_type": "code",
   "execution_count": 11,
   "metadata": {},
   "outputs": [],
   "source": [
    "# reset y variable to numpy array\n",
    "y_train, y_test = np.array(y_train), np.array(y_test)"
   ]
  },
  {
   "cell_type": "code",
   "execution_count": 12,
   "metadata": {},
   "outputs": [
    {
     "data": {
      "text/plain": [
       "{0: 1270872, 1: 1652}"
      ]
     },
     "execution_count": 12,
     "metadata": {},
     "output_type": "execute_result"
    }
   ],
   "source": [
    "# count how many non-fraud and fraud transactions are in the test set\n",
    "unique,counts = np.unique(y_test,return_counts=True)\n",
    "dict(zip(unique,counts))"
   ]
  },
  {
   "cell_type": "code",
   "execution_count": 49,
   "metadata": {},
   "outputs": [],
   "source": [
    "# separate the data into non-fraud and fraud dataframes\n",
    "non_fraud = data2[data2['isFraud']==0]\n",
    "fraud = data2[data2['isFraud']==1]"
   ]
  },
  {
   "cell_type": "code",
   "execution_count": 50,
   "metadata": {},
   "outputs": [
    {
     "data": {
      "text/plain": [
       "((6354407, 12), (8213, 12))"
      ]
     },
     "execution_count": 50,
     "metadata": {},
     "output_type": "execute_result"
    }
   ],
   "source": [
    "non_fraud.shape, fraud.shape"
   ]
  },
  {
   "cell_type": "code",
   "execution_count": 51,
   "metadata": {},
   "outputs": [
    {
     "data": {
      "text/html": [
       "<div>\n",
       "<style scoped>\n",
       "    .dataframe tbody tr th:only-of-type {\n",
       "        vertical-align: middle;\n",
       "    }\n",
       "\n",
       "    .dataframe tbody tr th {\n",
       "        vertical-align: top;\n",
       "    }\n",
       "\n",
       "    .dataframe thead th {\n",
       "        text-align: right;\n",
       "    }\n",
       "</style>\n",
       "<table border=\"1\" class=\"dataframe\">\n",
       "  <thead>\n",
       "    <tr style=\"text-align: right;\">\n",
       "      <th></th>\n",
       "      <th>isFraud</th>\n",
       "    </tr>\n",
       "  </thead>\n",
       "  <tbody>\n",
       "    <tr>\n",
       "      <th>3902442</th>\n",
       "      <td>0</td>\n",
       "    </tr>\n",
       "    <tr>\n",
       "      <th>1272841</th>\n",
       "      <td>0</td>\n",
       "    </tr>\n",
       "    <tr>\n",
       "      <th>1804262</th>\n",
       "      <td>0</td>\n",
       "    </tr>\n",
       "    <tr>\n",
       "      <th>2382872</th>\n",
       "      <td>0</td>\n",
       "    </tr>\n",
       "    <tr>\n",
       "      <th>3323463</th>\n",
       "      <td>0</td>\n",
       "    </tr>\n",
       "    <tr>\n",
       "      <th>6139753</th>\n",
       "      <td>0</td>\n",
       "    </tr>\n",
       "    <tr>\n",
       "      <th>5935941</th>\n",
       "      <td>0</td>\n",
       "    </tr>\n",
       "    <tr>\n",
       "      <th>1243612</th>\n",
       "      <td>0</td>\n",
       "    </tr>\n",
       "    <tr>\n",
       "      <th>2094247</th>\n",
       "      <td>0</td>\n",
       "    </tr>\n",
       "    <tr>\n",
       "      <th>6095677</th>\n",
       "      <td>0</td>\n",
       "    </tr>\n",
       "    <tr>\n",
       "      <th>2136935</th>\n",
       "      <td>0</td>\n",
       "    </tr>\n",
       "    <tr>\n",
       "      <th>3808391</th>\n",
       "      <td>0</td>\n",
       "    </tr>\n",
       "    <tr>\n",
       "      <th>5840396</th>\n",
       "      <td>0</td>\n",
       "    </tr>\n",
       "    <tr>\n",
       "      <th>2930044</th>\n",
       "      <td>0</td>\n",
       "    </tr>\n",
       "    <tr>\n",
       "      <th>1209709</th>\n",
       "      <td>0</td>\n",
       "    </tr>\n",
       "    <tr>\n",
       "      <th>6321268</th>\n",
       "      <td>0</td>\n",
       "    </tr>\n",
       "    <tr>\n",
       "      <th>4986787</th>\n",
       "      <td>0</td>\n",
       "    </tr>\n",
       "    <tr>\n",
       "      <th>20912</th>\n",
       "      <td>0</td>\n",
       "    </tr>\n",
       "    <tr>\n",
       "      <th>3954524</th>\n",
       "      <td>0</td>\n",
       "    </tr>\n",
       "    <tr>\n",
       "      <th>245035</th>\n",
       "      <td>0</td>\n",
       "    </tr>\n",
       "    <tr>\n",
       "      <th>5622322</th>\n",
       "      <td>0</td>\n",
       "    </tr>\n",
       "    <tr>\n",
       "      <th>3351508</th>\n",
       "      <td>0</td>\n",
       "    </tr>\n",
       "    <tr>\n",
       "      <th>4687701</th>\n",
       "      <td>0</td>\n",
       "    </tr>\n",
       "    <tr>\n",
       "      <th>4112638</th>\n",
       "      <td>0</td>\n",
       "    </tr>\n",
       "    <tr>\n",
       "      <th>2260301</th>\n",
       "      <td>0</td>\n",
       "    </tr>\n",
       "    <tr>\n",
       "      <th>614934</th>\n",
       "      <td>0</td>\n",
       "    </tr>\n",
       "    <tr>\n",
       "      <th>1510523</th>\n",
       "      <td>0</td>\n",
       "    </tr>\n",
       "    <tr>\n",
       "      <th>4117194</th>\n",
       "      <td>0</td>\n",
       "    </tr>\n",
       "    <tr>\n",
       "      <th>4890590</th>\n",
       "      <td>0</td>\n",
       "    </tr>\n",
       "    <tr>\n",
       "      <th>5943988</th>\n",
       "      <td>0</td>\n",
       "    </tr>\n",
       "    <tr>\n",
       "      <th>...</th>\n",
       "      <td>...</td>\n",
       "    </tr>\n",
       "    <tr>\n",
       "      <th>1878112</th>\n",
       "      <td>0</td>\n",
       "    </tr>\n",
       "    <tr>\n",
       "      <th>3428644</th>\n",
       "      <td>0</td>\n",
       "    </tr>\n",
       "    <tr>\n",
       "      <th>3543137</th>\n",
       "      <td>0</td>\n",
       "    </tr>\n",
       "    <tr>\n",
       "      <th>2930117</th>\n",
       "      <td>0</td>\n",
       "    </tr>\n",
       "    <tr>\n",
       "      <th>5449371</th>\n",
       "      <td>0</td>\n",
       "    </tr>\n",
       "    <tr>\n",
       "      <th>6198414</th>\n",
       "      <td>0</td>\n",
       "    </tr>\n",
       "    <tr>\n",
       "      <th>1110517</th>\n",
       "      <td>0</td>\n",
       "    </tr>\n",
       "    <tr>\n",
       "      <th>5496114</th>\n",
       "      <td>0</td>\n",
       "    </tr>\n",
       "    <tr>\n",
       "      <th>2954892</th>\n",
       "      <td>0</td>\n",
       "    </tr>\n",
       "    <tr>\n",
       "      <th>3735969</th>\n",
       "      <td>0</td>\n",
       "    </tr>\n",
       "    <tr>\n",
       "      <th>3770813</th>\n",
       "      <td>0</td>\n",
       "    </tr>\n",
       "    <tr>\n",
       "      <th>3637571</th>\n",
       "      <td>0</td>\n",
       "    </tr>\n",
       "    <tr>\n",
       "      <th>529497</th>\n",
       "      <td>0</td>\n",
       "    </tr>\n",
       "    <tr>\n",
       "      <th>3297610</th>\n",
       "      <td>0</td>\n",
       "    </tr>\n",
       "    <tr>\n",
       "      <th>4765293</th>\n",
       "      <td>0</td>\n",
       "    </tr>\n",
       "    <tr>\n",
       "      <th>3632036</th>\n",
       "      <td>0</td>\n",
       "    </tr>\n",
       "    <tr>\n",
       "      <th>3110416</th>\n",
       "      <td>0</td>\n",
       "    </tr>\n",
       "    <tr>\n",
       "      <th>3541373</th>\n",
       "      <td>0</td>\n",
       "    </tr>\n",
       "    <tr>\n",
       "      <th>5824835</th>\n",
       "      <td>0</td>\n",
       "    </tr>\n",
       "    <tr>\n",
       "      <th>1968501</th>\n",
       "      <td>0</td>\n",
       "    </tr>\n",
       "    <tr>\n",
       "      <th>2976762</th>\n",
       "      <td>0</td>\n",
       "    </tr>\n",
       "    <tr>\n",
       "      <th>2181797</th>\n",
       "      <td>0</td>\n",
       "    </tr>\n",
       "    <tr>\n",
       "      <th>5431597</th>\n",
       "      <td>0</td>\n",
       "    </tr>\n",
       "    <tr>\n",
       "      <th>4775185</th>\n",
       "      <td>0</td>\n",
       "    </tr>\n",
       "    <tr>\n",
       "      <th>2530788</th>\n",
       "      <td>0</td>\n",
       "    </tr>\n",
       "    <tr>\n",
       "      <th>3220411</th>\n",
       "      <td>0</td>\n",
       "    </tr>\n",
       "    <tr>\n",
       "      <th>5448303</th>\n",
       "      <td>0</td>\n",
       "    </tr>\n",
       "    <tr>\n",
       "      <th>2634114</th>\n",
       "      <td>0</td>\n",
       "    </tr>\n",
       "    <tr>\n",
       "      <th>4215434</th>\n",
       "      <td>0</td>\n",
       "    </tr>\n",
       "    <tr>\n",
       "      <th>2386746</th>\n",
       "      <td>0</td>\n",
       "    </tr>\n",
       "  </tbody>\n",
       "</table>\n",
       "<p>1270882 rows × 1 columns</p>\n",
       "</div>"
      ],
      "text/plain": [
       "         isFraud\n",
       "3902442        0\n",
       "1272841        0\n",
       "1804262        0\n",
       "2382872        0\n",
       "3323463        0\n",
       "6139753        0\n",
       "5935941        0\n",
       "1243612        0\n",
       "2094247        0\n",
       "6095677        0\n",
       "2136935        0\n",
       "3808391        0\n",
       "5840396        0\n",
       "2930044        0\n",
       "1209709        0\n",
       "6321268        0\n",
       "4986787        0\n",
       "20912          0\n",
       "3954524        0\n",
       "245035         0\n",
       "5622322        0\n",
       "3351508        0\n",
       "4687701        0\n",
       "4112638        0\n",
       "2260301        0\n",
       "614934         0\n",
       "1510523        0\n",
       "4117194        0\n",
       "4890590        0\n",
       "5943988        0\n",
       "...          ...\n",
       "1878112        0\n",
       "3428644        0\n",
       "3543137        0\n",
       "2930117        0\n",
       "5449371        0\n",
       "6198414        0\n",
       "1110517        0\n",
       "5496114        0\n",
       "2954892        0\n",
       "3735969        0\n",
       "3770813        0\n",
       "3637571        0\n",
       "529497         0\n",
       "3297610        0\n",
       "4765293        0\n",
       "3632036        0\n",
       "3110416        0\n",
       "3541373        0\n",
       "5824835        0\n",
       "1968501        0\n",
       "2976762        0\n",
       "2181797        0\n",
       "5431597        0\n",
       "4775185        0\n",
       "2530788        0\n",
       "3220411        0\n",
       "5448303        0\n",
       "2634114        0\n",
       "4215434        0\n",
       "2386746        0\n",
       "\n",
       "[1270882 rows x 1 columns]"
      ]
     },
     "execution_count": 51,
     "metadata": {},
     "output_type": "execute_result"
    }
   ],
   "source": [
    "# create a test-train split for the autoencoder using only non-fraud data\n",
    "x_train_ae, x_test_ae, y_train_ae, y_test_ae = train_test_split(non_fraud.loc[:,non_fraud.columns!='isFraud'],\n",
    "                                                                non_fraud.loc[:,non_fraud.columns=='isFraud'],\n",
    "                                                                train_size=train_pct,test_size=validate_pct)\n",
    "y_train_ae=np.array(y_train_ae)\n",
    "y_test_ae"
   ]
  },
  {
   "cell_type": "code",
   "execution_count": 52,
   "metadata": {},
   "outputs": [],
   "source": [
    "# using standard scaling to rescale the datasets' independent features\n",
    "standard_ae = StandardScaler()\n",
    "standard_x_train_ae = standard_ae.fit_transform(x_train_ae)\n",
    "standard_x_test_ae = standard_ae.transform(x_test_ae)"
   ]
  },
  {
   "cell_type": "code",
   "execution_count": 53,
   "metadata": {},
   "outputs": [],
   "source": [
    "# using normalized scaling to rescale the datasets' independent features\n",
    "minmax_ae = MinMaxScaler()\n",
    "minmax_x_train_ae = minmax_ae.fit_transform(x_train_ae)\n",
    "minamx_x_test_ae = minmax_ae.transform(x_test_ae)"
   ]
  },
  {
   "cell_type": "code",
   "execution_count": 54,
   "metadata": {},
   "outputs": [
    {
     "data": {
      "text/plain": [
       "(8213, 12)"
      ]
     },
     "execution_count": 54,
     "metadata": {},
     "output_type": "execute_result"
    }
   ],
   "source": [
    "non_fraud = non_fraud.sample(fraud.shape[0])\n",
    "non_fraud.shape"
   ]
  },
  {
   "cell_type": "code",
   "execution_count": 55,
   "metadata": {},
   "outputs": [
    {
     "data": {
      "text/html": [
       "<div>\n",
       "<style scoped>\n",
       "    .dataframe tbody tr th:only-of-type {\n",
       "        vertical-align: middle;\n",
       "    }\n",
       "\n",
       "    .dataframe tbody tr th {\n",
       "        vertical-align: top;\n",
       "    }\n",
       "\n",
       "    .dataframe thead th {\n",
       "        text-align: right;\n",
       "    }\n",
       "</style>\n",
       "<table border=\"1\" class=\"dataframe\">\n",
       "  <thead>\n",
       "    <tr style=\"text-align: right;\">\n",
       "      <th></th>\n",
       "      <th>step</th>\n",
       "      <th>amount</th>\n",
       "      <th>oldbalanceOrg</th>\n",
       "      <th>newbalanceOrig</th>\n",
       "      <th>oldbalanceDest</th>\n",
       "      <th>newbalanceDest</th>\n",
       "      <th>isFraud</th>\n",
       "      <th>CASH_IN</th>\n",
       "      <th>CASH_OUT</th>\n",
       "      <th>DEBIT</th>\n",
       "      <th>PAYMENT</th>\n",
       "      <th>TRANSFER</th>\n",
       "    </tr>\n",
       "  </thead>\n",
       "  <tbody>\n",
       "    <tr>\n",
       "      <th>0</th>\n",
       "      <td>1</td>\n",
       "      <td>181.0</td>\n",
       "      <td>181.0</td>\n",
       "      <td>0.0</td>\n",
       "      <td>0.0</td>\n",
       "      <td>0.0</td>\n",
       "      <td>1</td>\n",
       "      <td>0</td>\n",
       "      <td>0</td>\n",
       "      <td>0</td>\n",
       "      <td>0</td>\n",
       "      <td>1</td>\n",
       "    </tr>\n",
       "    <tr>\n",
       "      <th>1</th>\n",
       "      <td>1</td>\n",
       "      <td>181.0</td>\n",
       "      <td>181.0</td>\n",
       "      <td>0.0</td>\n",
       "      <td>21182.0</td>\n",
       "      <td>0.0</td>\n",
       "      <td>1</td>\n",
       "      <td>0</td>\n",
       "      <td>1</td>\n",
       "      <td>0</td>\n",
       "      <td>0</td>\n",
       "      <td>0</td>\n",
       "    </tr>\n",
       "    <tr>\n",
       "      <th>2</th>\n",
       "      <td>1</td>\n",
       "      <td>2806.0</td>\n",
       "      <td>2806.0</td>\n",
       "      <td>0.0</td>\n",
       "      <td>0.0</td>\n",
       "      <td>0.0</td>\n",
       "      <td>1</td>\n",
       "      <td>0</td>\n",
       "      <td>0</td>\n",
       "      <td>0</td>\n",
       "      <td>0</td>\n",
       "      <td>1</td>\n",
       "    </tr>\n",
       "    <tr>\n",
       "      <th>3</th>\n",
       "      <td>1</td>\n",
       "      <td>2806.0</td>\n",
       "      <td>2806.0</td>\n",
       "      <td>0.0</td>\n",
       "      <td>26202.0</td>\n",
       "      <td>0.0</td>\n",
       "      <td>1</td>\n",
       "      <td>0</td>\n",
       "      <td>1</td>\n",
       "      <td>0</td>\n",
       "      <td>0</td>\n",
       "      <td>0</td>\n",
       "    </tr>\n",
       "    <tr>\n",
       "      <th>4</th>\n",
       "      <td>1</td>\n",
       "      <td>20128.0</td>\n",
       "      <td>20128.0</td>\n",
       "      <td>0.0</td>\n",
       "      <td>0.0</td>\n",
       "      <td>0.0</td>\n",
       "      <td>1</td>\n",
       "      <td>0</td>\n",
       "      <td>0</td>\n",
       "      <td>0</td>\n",
       "      <td>0</td>\n",
       "      <td>1</td>\n",
       "    </tr>\n",
       "  </tbody>\n",
       "</table>\n",
       "</div>"
      ],
      "text/plain": [
       "   step   amount  oldbalanceOrg  newbalanceOrig  oldbalanceDest  \\\n",
       "0     1    181.0          181.0             0.0             0.0   \n",
       "1     1    181.0          181.0             0.0         21182.0   \n",
       "2     1   2806.0         2806.0             0.0             0.0   \n",
       "3     1   2806.0         2806.0             0.0         26202.0   \n",
       "4     1  20128.0        20128.0             0.0             0.0   \n",
       "\n",
       "   newbalanceDest  isFraud  CASH_IN  CASH_OUT  DEBIT  PAYMENT  TRANSFER  \n",
       "0             0.0        1        0         0      0        0         1  \n",
       "1             0.0        1        0         1      0        0         0  \n",
       "2             0.0        1        0         0      0        0         1  \n",
       "3             0.0        1        0         1      0        0         0  \n",
       "4             0.0        1        0         0      0        0         1  "
      ]
     },
     "execution_count": 55,
     "metadata": {},
     "output_type": "execute_result"
    }
   ],
   "source": [
    "rand_balanced_data = fraud.append(non_fraud, ignore_index=True)\n",
    "rand_balanced_data.head()"
   ]
  },
  {
   "cell_type": "code",
   "execution_count": 56,
   "metadata": {},
   "outputs": [
    {
     "data": {
      "text/plain": [
       "1    8213\n",
       "0    8213\n",
       "Name: isFraud, dtype: int64"
      ]
     },
     "execution_count": 56,
     "metadata": {},
     "output_type": "execute_result"
    }
   ],
   "source": [
    "rand_balanced_data['isFraud'].value_counts()"
   ]
  },
  {
   "cell_type": "code",
   "execution_count": 18,
   "metadata": {},
   "outputs": [],
   "source": [
    "# create a randomly balanced datasets for training and testing the feed forward neural netowrk on\n",
    "rand_x_train,rand_x_test,rand_y_train,rand_y_test=train_test_split(rand_balanced_data.loc[:,non_fraud.columns!='isFraud'],\n",
    "                                                                   rand_balanced_data.loc[:,non_fraud.columns=='isFraud'],\n",
    "                                                                   train_size=train_pct,test_size=validate_pct)\n",
    "rand_y_train=np.array(rand_y_train)\n",
    "rand_y_test=np.array(rand_y_test)"
   ]
  },
  {
   "cell_type": "code",
   "execution_count": 19,
   "metadata": {},
   "outputs": [],
   "source": [
    "# rescale datasets using StandardScaler on the training datasets\n",
    "rand_standard = StandardScaler()\n",
    "rand_standard_x_train = standard.fit_transform(rand_x_train)\n",
    "rand_standard_x_test = standard.transform(rand_x_test)"
   ]
  },
  {
   "cell_type": "code",
   "execution_count": 20,
   "metadata": {},
   "outputs": [],
   "source": [
    "# rescale datasets using MinMaxScaler on the training datasets\n",
    "rand_minmax = MinMaxScaler()\n",
    "rand_minmax_x_train = minmax.fit_transform(rand_x_train)\n",
    "rand_minmax_x_test = minmax.transform(rand_x_test)"
   ]
  },
  {
   "cell_type": "code",
   "execution_count": 21,
   "metadata": {},
   "outputs": [
    {
     "name": "stderr",
     "output_type": "stream",
     "text": [
      "C:\\ProgramData\\Anaconda3\\envs\\tensorflow_env\\lib\\site-packages\\sklearn\\utils\\validation.py:760: DataConversionWarning: A column-vector y was passed when a 1d array was expected. Please change the shape of y to (n_samples, ), for example using ravel().\n",
      "  y = column_or_1d(y, warn=True)\n"
     ]
    }
   ],
   "source": [
    "# create a SMOTE balanced version of the standard training dataset\n",
    "standard_smt = SMOTE()\n",
    "standard_x_train_sm, standard_y_train_sm = standard_smt.fit_sample(standard_x_train,y_train)"
   ]
  },
  {
   "cell_type": "code",
   "execution_count": 22,
   "metadata": {},
   "outputs": [
    {
     "data": {
      "text/plain": [
       "array([5083535, 5083535], dtype=int64)"
      ]
     },
     "execution_count": 22,
     "metadata": {},
     "output_type": "execute_result"
    }
   ],
   "source": [
    "np.bincount(standard_y_train_sm)"
   ]
  },
  {
   "cell_type": "code",
   "execution_count": 23,
   "metadata": {},
   "outputs": [
    {
     "name": "stderr",
     "output_type": "stream",
     "text": [
      "C:\\ProgramData\\Anaconda3\\envs\\tensorflow_env\\lib\\site-packages\\sklearn\\utils\\validation.py:760: DataConversionWarning: A column-vector y was passed when a 1d array was expected. Please change the shape of y to (n_samples, ), for example using ravel().\n",
      "  y = column_or_1d(y, warn=True)\n"
     ]
    }
   ],
   "source": [
    "# create a SMOTE balanced version of the standard training dataset\n",
    "minmax_smt = SMOTE()\n",
    "minmax_x_train_sm, minmax_y_train_sm = minmax_smt.fit_sample(minmax_x_train,y_train)"
   ]
  },
  {
   "cell_type": "code",
   "execution_count": 24,
   "metadata": {},
   "outputs": [
    {
     "data": {
      "text/plain": [
       "array([5083535, 5083535], dtype=int64)"
      ]
     },
     "execution_count": 24,
     "metadata": {},
     "output_type": "execute_result"
    }
   ],
   "source": [
    "np.bincount(standard_y_train_sm)"
   ]
  },
  {
   "cell_type": "markdown",
   "metadata": {},
   "source": [
    "### Feedforward Neural Network with Standardized Imbalanced Big Dataset"
   ]
  },
  {
   "cell_type": "code",
   "execution_count": 27,
   "metadata": {},
   "outputs": [],
   "source": [
    "imbalanced_ann = Sequential()\n",
    "\n",
    "imbalanced_ann.add(InputLayer(input_shape=(11,)))\n",
    "imbalanced_ann.add(Dense(64,activation='relu'))\n",
    "imbalanced_ann.add(Dropout(0.2))\n",
    "imbalanced_ann.add(Dense(32,activation='relu'))\n",
    "imbalanced_ann.add(Dropout(0.1))\n",
    "imbalanced_ann.add(Dense(1,activation='sigmoid'))"
   ]
  },
  {
   "cell_type": "code",
   "execution_count": 28,
   "metadata": {},
   "outputs": [
    {
     "name": "stdout",
     "output_type": "stream",
     "text": [
      "Model: \"sequential\"\n",
      "_________________________________________________________________\n",
      "Layer (type)                 Output Shape              Param #   \n",
      "=================================================================\n",
      "dense (Dense)                (None, 64)                768       \n",
      "_________________________________________________________________\n",
      "dropout (Dropout)            (None, 64)                0         \n",
      "_________________________________________________________________\n",
      "dense_1 (Dense)              (None, 32)                2080      \n",
      "_________________________________________________________________\n",
      "dropout_1 (Dropout)          (None, 32)                0         \n",
      "_________________________________________________________________\n",
      "dense_2 (Dense)              (None, 1)                 33        \n",
      "=================================================================\n",
      "Total params: 2,881\n",
      "Trainable params: 2,881\n",
      "Non-trainable params: 0\n",
      "_________________________________________________________________\n"
     ]
    }
   ],
   "source": [
    "imbalanced_ann.summary()"
   ]
  },
  {
   "cell_type": "code",
   "execution_count": 29,
   "metadata": {},
   "outputs": [],
   "source": [
    "imbalanced_ann.compile(loss=loss_function,optimizer=optimization_function,metrics=[metric])"
   ]
  },
  {
   "cell_type": "code",
   "execution_count": 38,
   "metadata": {},
   "outputs": [],
   "source": [
    "filepath=\"models/imbalanced-ann-weights-improvement-{epoch:02d}-{val_\"+metric+\":.2f}.hdf5\"\n",
    "checkpoint = ModelCheckpoint(filepath, monitor='val_'+metric, verbose=1, save_best_only=True, mode='max')\n",
    "callbacks_list_imbalanced_ann = [checkpoint]"
   ]
  },
  {
   "cell_type": "code",
   "execution_count": 39,
   "metadata": {},
   "outputs": [
    {
     "name": "stdout",
     "output_type": "stream",
     "text": [
      "Train on 4072076 samples, validate on 1018020 samples\n",
      "Epoch 1/5\n",
      "4071904/4072076 [============================>.] - ETA: 0s - loss: 0.0203 - binary_accuracy: 0.9976\n",
      "Epoch 00001: val_binary_accuracy improved from -inf to 0.99905, saving model to models/imbalanced-ann-weights-improvement-01-1.00.hdf5\n",
      "4072076/4072076 [==============================] - 464s 114us/sample - loss: 0.0203 - binary_accuracy: 0.9976 - val_loss: 0.0134 - val_binary_accuracy: 0.9991\n",
      "Epoch 2/5\n",
      "4072064/4072076 [============================>.] - ETA: 0s - loss: 0.0207 - binary_accuracy: 0.9978\n",
      "Epoch 00002: val_binary_accuracy improved from 0.99905 to 0.99911, saving model to models/imbalanced-ann-weights-improvement-02-1.00.hdf5\n",
      "4072076/4072076 [==============================] - 453s 111us/sample - loss: 0.0207 - binary_accuracy: 0.9978 - val_loss: 0.0144 - val_binary_accuracy: 0.9991\n",
      "Epoch 3/5\n",
      "4071968/4072076 [============================>.] - ETA: 0s - loss: 0.0226 - binary_accuracy: 0.9978- ETA: 0s - loss: 0.0226 - binary_accuracy: 0.\n",
      "Epoch 00003: val_binary_accuracy improved from 0.99911 to 0.99921, saving model to models/imbalanced-ann-weights-improvement-03-1.00.hdf5\n",
      "4072076/4072076 [==============================] - 491s 121us/sample - loss: 0.0227 - binary_accuracy: 0.9978 - val_loss: 0.0118 - val_binary_accuracy: 0.9992\n",
      "Epoch 4/5\n",
      "4072064/4072076 [============================>.] - ETA: 0s - loss: 0.0237 - binary_accuracy: 0.9978\n",
      "Epoch 00004: val_binary_accuracy did not improve from 0.99921\n",
      "4072076/4072076 [==============================] - 502s 123us/sample - loss: 0.0237 - binary_accuracy: 0.9978 - val_loss: 0.0055 - val_binary_accuracy: 0.9992\n",
      "Epoch 5/5\n",
      "4071968/4072076 [============================>.] - ETA: 0s - loss: 0.0259 - binary_accuracy: 0.9979\n",
      "Epoch 00005: val_binary_accuracy did not improve from 0.99921\n",
      "4072076/4072076 [==============================] - 515s 126us/sample - loss: 0.0259 - binary_accuracy: 0.9979 - val_loss: 0.0063 - val_binary_accuracy: 0.9991\n"
     ]
    }
   ],
   "source": [
    "standard_imbalaned_ann_fit = imbalanced_ann.fit(standard_x_train,y_train,callbacks=callbacks_list_imbalanced_ann,\n",
    "                                                batch_size=batch_bin,epochs=num_epochs,validation_split=validate_pct)"
   ]
  },
  {
   "cell_type": "code",
   "execution_count": 81,
   "metadata": {},
   "outputs": [],
   "source": [
    "standardized_imbalanced_y_pred = imbalanced_ann.predict_classes(standard_x_test)"
   ]
  },
  {
   "cell_type": "code",
   "execution_count": 82,
   "metadata": {},
   "outputs": [
    {
     "name": "stdout",
     "output_type": "stream",
     "text": [
      "Percent of true positives: 30.27%\n",
      "Percent of false negatives: 69.73%\n",
      "Percent of true negatives: 100.00%\n",
      "Percent of false positives: 0.00%\n"
     ]
    },
    {
     "data": {
      "text/html": [
       "<div>\n",
       "<style scoped>\n",
       "    .dataframe tbody tr th:only-of-type {\n",
       "        vertical-align: middle;\n",
       "    }\n",
       "\n",
       "    .dataframe tbody tr th {\n",
       "        vertical-align: top;\n",
       "    }\n",
       "\n",
       "    .dataframe thead th {\n",
       "        text-align: right;\n",
       "    }\n",
       "</style>\n",
       "<table border=\"1\" class=\"dataframe\">\n",
       "  <thead>\n",
       "    <tr style=\"text-align: right;\">\n",
       "      <th></th>\n",
       "      <th>Pred Fraud</th>\n",
       "      <th>Pred Non-Fraud</th>\n",
       "    </tr>\n",
       "  </thead>\n",
       "  <tbody>\n",
       "    <tr>\n",
       "      <th>Actual Fraud</th>\n",
       "      <td>490</td>\n",
       "      <td>1129</td>\n",
       "    </tr>\n",
       "    <tr>\n",
       "      <th>Actual Non-Fraud</th>\n",
       "      <td>1</td>\n",
       "      <td>1270904</td>\n",
       "    </tr>\n",
       "  </tbody>\n",
       "</table>\n",
       "</div>"
      ],
      "text/plain": [
       "                  Pred Fraud  Pred Non-Fraud\n",
       "Actual Fraud             490            1129\n",
       "Actual Non-Fraud           1         1270904"
      ]
     },
     "execution_count": 82,
     "metadata": {},
     "output_type": "execute_result"
    }
   ],
   "source": [
    "print_confusion_matrix(y_test,standardized_imbalanced_y_pred)"
   ]
  },
  {
   "cell_type": "code",
   "execution_count": 80,
   "metadata": {},
   "outputs": [],
   "source": [
    "# save standardized imbalanced_ann model\n",
    "# serialize model to JSON\n",
    "with open(\"models/standardized_imbalaned_ann_fraud_detector.json\", \"w\") as json_file:\n",
    "    json_file.write(imbalanced_ann.to_json())\n",
    "# serialize weights to HDF5\n",
    "imbalanced_ann.save_weights(\"models/standardized_imbalaned_ann_fraud_detector.h5\")"
   ]
  },
  {
   "cell_type": "markdown",
   "metadata": {},
   "source": [
    "### Feedforward Neural Network with Normalized Imbalanced Big Dataset"
   ]
  },
  {
   "cell_type": "code",
   "execution_count": 75,
   "metadata": {},
   "outputs": [],
   "source": [
    "filepath=\"models/imbalanced-minmax-ann-weights-improvement-{epoch:02d}-{val_\"+metric+\":.2f}.hdf5\"\n",
    "checkpoint = ModelCheckpoint(filepath, monitor='val_'+metric, verbose=1, save_best_only=True, mode='max')\n",
    "callbacks_list_imbalanced_ann = [checkpoint]"
   ]
  },
  {
   "cell_type": "code",
   "execution_count": 77,
   "metadata": {},
   "outputs": [
    {
     "name": "stdout",
     "output_type": "stream",
     "text": [
      "Train on 4072076 samples, validate on 1018020 samples\n",
      "Epoch 1/5\n",
      "4071904/4072076 [============================>.] - ETA: 0s - loss: 0.0122 - binary_accuracy: 0.9986\n",
      "Epoch 00001: val_binary_accuracy improved from -inf to 0.99871, saving model to models/imbalanced-minmax-ann-weights-improvement-01-1.00.hdf5\n",
      "4072076/4072076 [==============================] - 547s 134us/sample - loss: 0.0122 - binary_accuracy: 0.9986 - val_loss: 0.0084 - val_binary_accuracy: 0.9987\n",
      "Epoch 2/5\n",
      "4071840/4072076 [============================>.] - ETA: 0s - loss: 0.0123 - binary_accuracy: 0.9986\n",
      "Epoch 00002: val_binary_accuracy did not improve from 0.99871\n",
      "4072076/4072076 [==============================] - 487s 120us/sample - loss: 0.0123 - binary_accuracy: 0.9986 - val_loss: 0.0166 - val_binary_accuracy: 0.9987\n",
      "Epoch 3/5\n",
      "4071680/4072076 [============================>.] - ETA: 0s - loss: 0.0127 - binary_accuracy: 0.9985\n",
      "Epoch 00003: val_binary_accuracy did not improve from 0.99871\n",
      "4072076/4072076 [==============================] - 475s 117us/sample - loss: 0.0127 - binary_accuracy: 0.9985 - val_loss: 0.0112 - val_binary_accuracy: 0.9987\n",
      "Epoch 4/5\n",
      "4071840/4072076 [============================>.] - ETA: 0s - loss: 0.0131 - binary_accuracy: 0.9985\n",
      "Epoch 00004: val_binary_accuracy did not improve from 0.99871\n",
      "4072076/4072076 [==============================] - 444s 109us/sample - loss: 0.0131 - binary_accuracy: 0.9985 - val_loss: 0.0144 - val_binary_accuracy: 0.9987\n",
      "Epoch 5/5\n",
      "4071872/4072076 [============================>.] - ETA: 0s - loss: 0.0134 - binary_accuracy: 0.9984\n",
      "Epoch 00005: val_binary_accuracy improved from 0.99871 to 0.99872, saving model to models/imbalanced-minmax-ann-weights-improvement-05-1.00.hdf5\n",
      "4072076/4072076 [==============================] - 447s 110us/sample - loss: 0.0134 - binary_accuracy: 0.9984 - val_loss: 0.0109 - val_binary_accuracy: 0.9987\n"
     ]
    }
   ],
   "source": [
    "minmax_imbalanced_ann = clone_model(imbalanced_ann)\n",
    "minmax_imbalanced_ann.compile(loss=loss_function,optimizer=optimization_function,metrics=[metric])\n",
    "minamx_imbalaned_ann_fit = minmax_imbalanced_ann.fit(minmax_x_train,y_train,callbacks=callbacks_list_imbalanced_ann,\n",
    "                                                     batch_size=batch_bin,epochs=num_epochs,validation_split=validate_pct)"
   ]
  },
  {
   "cell_type": "code",
   "execution_count": 84,
   "metadata": {},
   "outputs": [],
   "source": [
    "normalized_imbalanced_y_pred = minmax_imbalanced_ann.predict_classes(minmax_x_test)"
   ]
  },
  {
   "cell_type": "code",
   "execution_count": 85,
   "metadata": {},
   "outputs": [
    {
     "name": "stdout",
     "output_type": "stream",
     "text": [
      "Percent of true positives: 0.31%\n",
      "Percent of false negatives: 99.69%\n",
      "Percent of true negatives: 100.00%\n",
      "Percent of false positives: 0.00%\n"
     ]
    },
    {
     "data": {
      "text/html": [
       "<div>\n",
       "<style scoped>\n",
       "    .dataframe tbody tr th:only-of-type {\n",
       "        vertical-align: middle;\n",
       "    }\n",
       "\n",
       "    .dataframe tbody tr th {\n",
       "        vertical-align: top;\n",
       "    }\n",
       "\n",
       "    .dataframe thead th {\n",
       "        text-align: right;\n",
       "    }\n",
       "</style>\n",
       "<table border=\"1\" class=\"dataframe\">\n",
       "  <thead>\n",
       "    <tr style=\"text-align: right;\">\n",
       "      <th></th>\n",
       "      <th>Pred Fraud</th>\n",
       "      <th>Pred Non-Fraud</th>\n",
       "    </tr>\n",
       "  </thead>\n",
       "  <tbody>\n",
       "    <tr>\n",
       "      <th>Actual Fraud</th>\n",
       "      <td>5</td>\n",
       "      <td>1614</td>\n",
       "    </tr>\n",
       "    <tr>\n",
       "      <th>Actual Non-Fraud</th>\n",
       "      <td>1</td>\n",
       "      <td>1270904</td>\n",
       "    </tr>\n",
       "  </tbody>\n",
       "</table>\n",
       "</div>"
      ],
      "text/plain": [
       "                  Pred Fraud  Pred Non-Fraud\n",
       "Actual Fraud               5            1614\n",
       "Actual Non-Fraud           1         1270904"
      ]
     },
     "execution_count": 85,
     "metadata": {},
     "output_type": "execute_result"
    }
   ],
   "source": [
    "print_confusion_matrix(y_test,normalized_imbalanced_y_pred)"
   ]
  },
  {
   "cell_type": "code",
   "execution_count": 86,
   "metadata": {},
   "outputs": [],
   "source": [
    "# save nornalized imbalanced_ann model\n",
    "# serialize model to JSON\n",
    "with open(\"models/normalized_imbalaned_ann_fraud_detector.json\", \"w\") as json_file:\n",
    "    json_file.write(minmax_imbalanced_ann.to_json())\n",
    "# serialize weights to HDF5\n",
    "minmax_imbalanced_ann.save_weights(\"models/normalized_imbalaned_ann_fraud_detector.h5\")"
   ]
  },
  {
   "cell_type": "markdown",
   "metadata": {},
   "source": [
    "### Feedforward with Randomly Balanced Small Dataset"
   ]
  },
  {
   "cell_type": "code",
   "execution_count": 73,
   "metadata": {},
   "outputs": [],
   "source": [
    "balanced_ann = Sequential()\n",
    "\n",
    "balanced_ann.add(InputLayer(input_shape=(11,)))\n",
    "balanced_ann.add(Dense(64,activation='relu'))\n",
    "balanced_ann.add(Dropout(0.2))\n",
    "balanced_ann.add(Dense(32,activation='relu'))\n",
    "balanced_ann.add(Dropout(0.1))\n",
    "balanced_ann.add(Dense(1,activation='sigmoid'))"
   ]
  },
  {
   "cell_type": "code",
   "execution_count": 74,
   "metadata": {},
   "outputs": [
    {
     "name": "stdout",
     "output_type": "stream",
     "text": [
      "Model: \"sequential_1\"\n",
      "_________________________________________________________________\n",
      "Layer (type)                 Output Shape              Param #   \n",
      "=================================================================\n",
      "dense_3 (Dense)              (None, 64)                768       \n",
      "_________________________________________________________________\n",
      "dropout_2 (Dropout)          (None, 64)                0         \n",
      "_________________________________________________________________\n",
      "dense_4 (Dense)              (None, 32)                2080      \n",
      "_________________________________________________________________\n",
      "dropout_3 (Dropout)          (None, 32)                0         \n",
      "_________________________________________________________________\n",
      "dense_5 (Dense)              (None, 1)                 33        \n",
      "=================================================================\n",
      "Total params: 2,881\n",
      "Trainable params: 2,881\n",
      "Non-trainable params: 0\n",
      "_________________________________________________________________\n"
     ]
    }
   ],
   "source": [
    "balanced_ann.summary()"
   ]
  },
  {
   "cell_type": "code",
   "execution_count": 91,
   "metadata": {},
   "outputs": [],
   "source": [
    "balanced_ann.compile(loss=loss_function,optimizer=optimization_function,metrics=[metric])"
   ]
  },
  {
   "cell_type": "code",
   "execution_count": 92,
   "metadata": {},
   "outputs": [],
   "source": [
    "filepath=\"models/balanced-ann-weights-improvement-{epoch:02d}-{val_\"+metric+\":.2f}.hdf5\"\n",
    "checkpoint = ModelCheckpoint(filepath, monitor='val_'+metric, verbose=1, save_best_only=True, mode='max')\n",
    "callbacks_list_balanced_ann = [checkpoint]"
   ]
  },
  {
   "cell_type": "code",
   "execution_count": 96,
   "metadata": {},
   "outputs": [
    {
     "name": "stdout",
     "output_type": "stream",
     "text": [
      "Train on 10512 samples, validate on 2628 samples\n",
      "Epoch 1/5\n",
      "10432/10512 [============================>.] - ETA: 0s - loss: 2.2804 - binary_accuracy: 0.4919\n",
      "Epoch 00001: val_binary_accuracy improved from -inf to 0.51560, saving model to models/balanced-ann-weights-improvement-01-0.52.hdf5\n",
      "10512/10512 [==============================] - 7s 648us/sample - loss: 2.2746 - binary_accuracy: 0.4914 - val_loss: 1.7996 - val_binary_accuracy: 0.5156\n",
      "Epoch 2/5\n",
      "10272/10512 [============================>.] - ETA: 0s - loss: 1.7420 - binary_accuracy: 0.4978\n",
      "Epoch 00002: val_binary_accuracy did not improve from 0.51560\n",
      "10512/10512 [==============================] - 2s 201us/sample - loss: 1.7293 - binary_accuracy: 0.4972 - val_loss: 1.8970 - val_binary_accuracy: 0.5156\n",
      "Epoch 3/5\n",
      "10048/10512 [===========================>..] - ETA: 0s - loss: 1.4591 - binary_accuracy: 0.5028\n",
      "Epoch 00003: val_binary_accuracy improved from 0.51560 to 0.51598, saving model to models/balanced-ann-weights-improvement-03-0.52.hdf5\n",
      "10512/10512 [==============================] - 1s 126us/sample - loss: 1.4575 - binary_accuracy: 0.5031 - val_loss: 0.8896 - val_binary_accuracy: 0.5160\n",
      "Epoch 4/5\n",
      "10048/10512 [===========================>..] - ETA: 0s - loss: 1.2822 - binary_accuracy: 0.5020\n",
      "Epoch 00004: val_binary_accuracy did not improve from 0.51598\n",
      "10512/10512 [==============================] - 1s 117us/sample - loss: 1.2756 - binary_accuracy: 0.5012 - val_loss: 1.6046 - val_binary_accuracy: 0.5160\n",
      "Epoch 5/5\n",
      "10144/10512 [===========================>..] - ETA: 0s - loss: 1.1588 - binary_accuracy: 0.4973\n",
      "Epoch 00005: val_binary_accuracy did not improve from 0.51598\n",
      "10512/10512 [==============================] - 2s 173us/sample - loss: 1.1491 - binary_accuracy: 0.4970 - val_loss: 1.3048 - val_binary_accuracy: 0.5145\n"
     ]
    }
   ],
   "source": [
    "standard_balaned_ann_fit = balanced_ann.fit(rand_standard_x_train,rand_y_train,\n",
    "                                            callbacks=callbacks_list_balanced_ann,\n",
    "                                            batch_size=batch_bin,epochs=num_epochs,\n",
    "                                            validation_split=validate_pct)"
   ]
  },
  {
   "cell_type": "code",
   "execution_count": 97,
   "metadata": {},
   "outputs": [],
   "source": [
    "standardized_balanced_y_pred = balanced_ann.predict_classes(rand_standard_x_test)"
   ]
  },
  {
   "cell_type": "code",
   "execution_count": 99,
   "metadata": {},
   "outputs": [
    {
     "name": "stdout",
     "output_type": "stream",
     "text": [
      "Percent of true positives: 98.72%\n",
      "Percent of false negatives: 1.28%\n",
      "Percent of true negatives: 1.45%\n",
      "Percent of false positives: 98.55%\n"
     ]
    },
    {
     "data": {
      "text/html": [
       "<div>\n",
       "<style scoped>\n",
       "    .dataframe tbody tr th:only-of-type {\n",
       "        vertical-align: middle;\n",
       "    }\n",
       "\n",
       "    .dataframe tbody tr th {\n",
       "        vertical-align: top;\n",
       "    }\n",
       "\n",
       "    .dataframe thead th {\n",
       "        text-align: right;\n",
       "    }\n",
       "</style>\n",
       "<table border=\"1\" class=\"dataframe\">\n",
       "  <thead>\n",
       "    <tr style=\"text-align: right;\">\n",
       "      <th></th>\n",
       "      <th>Pred Fraud</th>\n",
       "      <th>Pred Non-Fraud</th>\n",
       "    </tr>\n",
       "  </thead>\n",
       "  <tbody>\n",
       "    <tr>\n",
       "      <th>Actual Fraud</th>\n",
       "      <td>1615</td>\n",
       "      <td>21</td>\n",
       "    </tr>\n",
       "    <tr>\n",
       "      <th>Actual Non-Fraud</th>\n",
       "      <td>1626</td>\n",
       "      <td>24</td>\n",
       "    </tr>\n",
       "  </tbody>\n",
       "</table>\n",
       "</div>"
      ],
      "text/plain": [
       "                  Pred Fraud  Pred Non-Fraud\n",
       "Actual Fraud            1615              21\n",
       "Actual Non-Fraud        1626              24"
      ]
     },
     "execution_count": 99,
     "metadata": {},
     "output_type": "execute_result"
    }
   ],
   "source": [
    "print_confusion_matrix(rand_y_test,standardized_balanced_y_pred)"
   ]
  },
  {
   "cell_type": "markdown",
   "metadata": {},
   "source": [
    "### Feed Forward with SMOTE Big Dataset"
   ]
  },
  {
   "cell_type": "code",
   "execution_count": 31,
   "metadata": {},
   "outputs": [],
   "source": [
    "smote_ann = Sequential()\n",
    "\n",
    "smote_ann.add(InputLayer(input_shape=(11,)))\n",
    "smote_ann.add(Dense(64,activation='relu'))\n",
    "smote_ann.add(Dropout(0.2))\n",
    "smote_ann.add(Dense(32,activation='relu'))\n",
    "smote_ann.add(Dropout(0.1))\n",
    "smote_ann.add(Dense(1,activation='sigmoid'))"
   ]
  },
  {
   "cell_type": "code",
   "execution_count": 32,
   "metadata": {},
   "outputs": [
    {
     "name": "stdout",
     "output_type": "stream",
     "text": [
      "Model: \"sequential\"\n",
      "_________________________________________________________________\n",
      "Layer (type)                 Output Shape              Param #   \n",
      "=================================================================\n",
      "dense (Dense)                (None, 64)                768       \n",
      "_________________________________________________________________\n",
      "dropout (Dropout)            (None, 64)                0         \n",
      "_________________________________________________________________\n",
      "dense_1 (Dense)              (None, 32)                2080      \n",
      "_________________________________________________________________\n",
      "dropout_1 (Dropout)          (None, 32)                0         \n",
      "_________________________________________________________________\n",
      "dense_2 (Dense)              (None, 1)                 33        \n",
      "=================================================================\n",
      "Total params: 2,881\n",
      "Trainable params: 2,881\n",
      "Non-trainable params: 0\n",
      "_________________________________________________________________\n"
     ]
    }
   ],
   "source": [
    "smote_ann.summary()"
   ]
  },
  {
   "cell_type": "code",
   "execution_count": 33,
   "metadata": {},
   "outputs": [],
   "source": [
    "smote_ann.compile(loss=loss_function,optimizer=optimization_function,metrics=[metric])"
   ]
  },
  {
   "cell_type": "code",
   "execution_count": 34,
   "metadata": {},
   "outputs": [],
   "source": [
    "filepath=\"models/smote-balanced-ann-weights-improvement-{epoch:02d}-{val_\"+metric+\":.2f}.hdf5\"\n",
    "checkpoint = ModelCheckpoint(filepath, monitor='val_'+metric, verbose=1, save_best_only=True, mode='max')\n",
    "callbacks_list_smote_balanced_ann = [checkpoint]"
   ]
  },
  {
   "cell_type": "code",
   "execution_count": 35,
   "metadata": {},
   "outputs": [
    {
     "name": "stdout",
     "output_type": "stream",
     "text": [
      "Train on 8133632 samples, validate on 2033408 samples\n",
      "Epoch 1/5\n",
      "8133312/8133632 [============================>.] - ETA: 0s - loss: 0.1017 - binary_accuracy: 0.9715\n",
      "Epoch 00001: val_binary_accuracy improved from -inf to 0.97234, saving model to models/smote-balanced-ann-weights-improvement-01-0.97.hdf5\n",
      "8133632/8133632 [==============================] - 753s 93us/sample - loss: 0.1017 - binary_accuracy: 0.9715 - val_loss: 0.1387 - val_binary_accuracy: 0.9723\n",
      "Epoch 2/5\n",
      "8132864/8133632 [============================>.] - ETA: 0s - loss: 0.0989 - binary_accuracy: 0.9760\n",
      "Epoch 00002: val_binary_accuracy improved from 0.97234 to 0.98770, saving model to models/smote-balanced-ann-weights-improvement-02-0.99.hdf5\n",
      "8133632/8133632 [==============================] - 809s 99us/sample - loss: 0.0989 - binary_accuracy: 0.9760 - val_loss: 0.1116 - val_binary_accuracy: 0.9877\n",
      "Epoch 3/5\n",
      "8133152/8133632 [============================>.] - ETA: 0s - loss: 0.1041 - binary_accuracy: 0.9773\n",
      "Epoch 00003: val_binary_accuracy improved from 0.98770 to 0.99390, saving model to models/smote-balanced-ann-weights-improvement-03-0.99.hdf5\n",
      "8133632/8133632 [==============================] - 838s 103us/sample - loss: 0.1041 - binary_accuracy: 0.9773 - val_loss: 0.0804 - val_binary_accuracy: 0.9939\n",
      "Epoch 4/5\n",
      "8133536/8133632 [============================>.] - ETA: 0s - loss: 0.1020 - binary_accuracy: 0.9784\n",
      "Epoch 00004: val_binary_accuracy did not improve from 0.99390\n",
      "8133632/8133632 [==============================] - 953s 117us/sample - loss: 0.1020 - binary_accuracy: 0.9784 - val_loss: 0.0946 - val_binary_accuracy: 0.9856\n",
      "Epoch 5/5\n",
      "8133568/8133632 [============================>.] - ETA: 0s - loss: 0.0993 - binary_accuracy: 0.9797\n",
      "Epoch 00005: val_binary_accuracy did not improve from 0.99390\n",
      "8133632/8133632 [==============================] - 950s 117us/sample - loss: 0.0993 - binary_accuracy: 0.9797 - val_loss: 0.0775 - val_binary_accuracy: 0.9919\n"
     ]
    }
   ],
   "source": [
    "standardized_smote_fit=smote_ann.fit(standard_x_train_sm,standard_y_train_sm,\n",
    "                                    callbacks=callbacks_list_smote_balanced_ann,\n",
    "                                    batch_size=batch_bin,epochs=num_epochs,validation_split=validate_pct)"
   ]
  },
  {
   "cell_type": "code",
   "execution_count": 37,
   "metadata": {},
   "outputs": [],
   "source": [
    "standardized_smote_y_pred = smote_ann.predict_classes(standard_x_test)"
   ]
  },
  {
   "cell_type": "code",
   "execution_count": 42,
   "metadata": {},
   "outputs": [
    {
     "name": "stdout",
     "output_type": "stream",
     "text": [
      "Percent of true positives: 98.84%\n",
      "Percent of false negatives: 1.16%\n",
      "Percent of true negatives: 98.00%\n",
      "Percent of false positives: 2.00%\n"
     ]
    },
    {
     "data": {
      "text/html": [
       "<div>\n",
       "<style scoped>\n",
       "    .dataframe tbody tr th:only-of-type {\n",
       "        vertical-align: middle;\n",
       "    }\n",
       "\n",
       "    .dataframe tbody tr th {\n",
       "        vertical-align: top;\n",
       "    }\n",
       "\n",
       "    .dataframe thead th {\n",
       "        text-align: right;\n",
       "    }\n",
       "</style>\n",
       "<table border=\"1\" class=\"dataframe\">\n",
       "  <thead>\n",
       "    <tr style=\"text-align: right;\">\n",
       "      <th></th>\n",
       "      <th>Pred Fraud</th>\n",
       "      <th>Pred Non-Fraud</th>\n",
       "    </tr>\n",
       "  </thead>\n",
       "  <tbody>\n",
       "    <tr>\n",
       "      <th>Actual Fraud</th>\n",
       "      <td>1618</td>\n",
       "      <td>19</td>\n",
       "    </tr>\n",
       "    <tr>\n",
       "      <th>Actual Non-Fraud</th>\n",
       "      <td>25444</td>\n",
       "      <td>1245443</td>\n",
       "    </tr>\n",
       "  </tbody>\n",
       "</table>\n",
       "</div>"
      ],
      "text/plain": [
       "                  Pred Fraud  Pred Non-Fraud\n",
       "Actual Fraud            1618              19\n",
       "Actual Non-Fraud       25444         1245443"
      ]
     },
     "execution_count": 42,
     "metadata": {},
     "output_type": "execute_result"
    }
   ],
   "source": [
    "print_confusion_matrix(y_test,standardized_smote_y_pred)"
   ]
  },
  {
   "cell_type": "code",
   "execution_count": 45,
   "metadata": {},
   "outputs": [
    {
     "data": {
      "image/png": "[encoded data removed]",
      "text/plain": [
       "<Figure size 432x288 with 1 Axes>"
      ]
     },
     "metadata": {
      "needs_background": "light"
     },
     "output_type": "display_data"
    },
    {
     "data": {
      "image/png": "[encoded data removed]",
      "text/plain": [
       "<Figure size 432x288 with 1 Axes>"
      ]
     },
     "metadata": {
      "needs_background": "light"
     },
     "output_type": "display_data"
    }
   ],
   "source": [
    "plot_learningCurve(standardized_smote_fit,num_epochs)"
   ]
  },
  {
   "cell_type": "code",
   "execution_count": 46,
   "metadata": {},
   "outputs": [],
   "source": [
    "# save nornalized imbalanced_ann model\n",
    "# serialize model to JSON\n",
    "with open(\"models/standardized_smote_balaned_ann_fraud_detector.json\", \"w\") as json_file:\n",
    "    json_file.write(smote_ann.to_json())\n",
    "# serialize weights to HDF5\n",
    "smote_ann.save_weights(\"models/standardized_smote_balaned_ann_fraud_detector.h5\")"
   ]
  },
  {
   "cell_type": "code",
   "execution_count": 47,
   "metadata": {},
   "outputs": [],
   "source": [
    "filepath=\"models/normalized-smote-balanced-ann-weights-improvement-{epoch:02d}-{val_\"+metric+\":.2f}.hdf5\"\n",
    "checkpoint = ModelCheckpoint(filepath, monitor='val_'+metric, verbose=1, save_best_only=True, mode='max')\n",
    "callbacks_list_minmax_smote_balanced_ann = [checkpoint]"
   ]
  },
  {
   "cell_type": "code",
   "execution_count": null,
   "metadata": {},
   "outputs": [
    {
     "name": "stdout",
     "output_type": "stream",
     "text": [
      "Train on 8133632 samples, validate on 2033408 samples\n",
      "Epoch 1/5\n",
      "8133312/8133632 [============================>.] - ETA: 0s - loss: 0.1199 - binary_accuracy: 0.9748- ETA: \n",
      "Epoch 00001: val_binary_accuracy improved from -inf to 0.99536, saving model to models/normalized-smote-balanced-ann-weights-improvement-01-1.00.hdf5\n",
      "8133632/8133632 [==============================] - 912s 112us/sample - loss: 0.1199 - binary_accuracy: 0.9748 - val_loss: 0.1139 - val_binary_accuracy: 0.9954\n",
      "Epoch 2/5\n",
      "3695776/8133632 [============>.................] - ETA: 7:05 - loss: 0.0962 - binary_accuracy: 0.9849"
     ]
    }
   ],
   "source": [
    "minmax_smote_ann=keras.models.clone_model(smote_ann)\n",
    "minmax_smote_ann.compile(loss=loss_function,optimizer=optimization_function,metrics=[metric])\n",
    "minmax_smote_fit=minmax_smote_ann.fit(minmax_x_train_sm,minmax_y_train_sm,\n",
    "                                      callbacks=callbacks_list_minmax_smote_balanced_ann,\n",
    "                                      batch_size=batch_bin,epochs=num_epochs,validation_split=validate_pct)"
   ]
  },
  {
   "cell_type": "code",
   "execution_count": 37,
   "metadata": {},
   "outputs": [],
   "source": [
    "standardized_smote_y_pred = smote_ann.predict_classes(standard_x_test)"
   ]
  },
  {
   "cell_type": "code",
   "execution_count": 42,
   "metadata": {},
   "outputs": [
    {
     "name": "stdout",
     "output_type": "stream",
     "text": [
      "Percent of true positives: 98.84%\n",
      "Percent of false negatives: 1.16%\n",
      "Percent of true negatives: 98.00%\n",
      "Percent of false positives: 2.00%\n"
     ]
    },
    {
     "data": {
      "text/html": [
       "<div>\n",
       "<style scoped>\n",
       "    .dataframe tbody tr th:only-of-type {\n",
       "        vertical-align: middle;\n",
       "    }\n",
       "\n",
       "    .dataframe tbody tr th {\n",
       "        vertical-align: top;\n",
       "    }\n",
       "\n",
       "    .dataframe thead th {\n",
       "        text-align: right;\n",
       "    }\n",
       "</style>\n",
       "<table border=\"1\" class=\"dataframe\">\n",
       "  <thead>\n",
       "    <tr style=\"text-align: right;\">\n",
       "      <th></th>\n",
       "      <th>Pred Fraud</th>\n",
       "      <th>Pred Non-Fraud</th>\n",
       "    </tr>\n",
       "  </thead>\n",
       "  <tbody>\n",
       "    <tr>\n",
       "      <th>Actual Fraud</th>\n",
       "      <td>1618</td>\n",
       "      <td>19</td>\n",
       "    </tr>\n",
       "    <tr>\n",
       "      <th>Actual Non-Fraud</th>\n",
       "      <td>25444</td>\n",
       "      <td>1245443</td>\n",
       "    </tr>\n",
       "  </tbody>\n",
       "</table>\n",
       "</div>"
      ],
      "text/plain": [
       "                  Pred Fraud  Pred Non-Fraud\n",
       "Actual Fraud            1618              19\n",
       "Actual Non-Fraud       25444         1245443"
      ]
     },
     "execution_count": 42,
     "metadata": {},
     "output_type": "execute_result"
    }
   ],
   "source": [
    "print_confusion_matrix(y_test,standardized_smote_y_pred)"
   ]
  },
  {
   "cell_type": "code",
   "execution_count": 45,
   "metadata": {},
   "outputs": [
    {
     "data": {
      "image/png": "[encoded data removed]",
      "text/plain": [
       "<Figure size 432x288 with 1 Axes>"
      ]
     },
     "metadata": {
      "needs_background": "light"
     },
     "output_type": "display_data"
    },
    {
     "data": {
      "image/png": "[encoded data removed]",
      "text/plain": [
       "<Figure size 432x288 with 1 Axes>"
      ]
     },
     "metadata": {
      "needs_background": "light"
     },
     "output_type": "display_data"
    }
   ],
   "source": [
    "plot_learningCurve(standardized_smote_fit,num_epochs)"
   ]
  },
  {
   "cell_type": "code",
   "execution_count": 46,
   "metadata": {},
   "outputs": [],
   "source": [
    "# save nornalized imbalanced_ann model\n",
    "# serialize model to JSON\n",
    "with open(\"models/standardized_smote_balaned_ann_fraud_detector.json\", \"w\") as json_file:\n",
    "    json_file.write(smote_ann.to_json())\n",
    "# serialize weights to HDF5\n",
    "smote_ann.save_weights(\"models/standardized_smote_balaned_ann_fraud_detector.h5\")"
   ]
  },
  {
   "cell_type": "markdown",
   "metadata": {},
   "source": [
    "### Autoencoder Neural Network"
   ]
  },
  {
   "cell_type": "code",
   "execution_count": 28,
   "metadata": {},
   "outputs": [],
   "source": [
    "autoencoder = Sequential()\n",
    "\n",
    "autoencoder.add(InputLayer(input_shape=(11,)))\n",
    "autoencoder.add(Dense(32,activation='relu', activity_regularizer=regularizers.l1(learning_rate)))\n",
    "autoencoder.add(Dense(6,activation='relu'))\n",
    "autoencoder.add(Dense(6,activation='relu'))\n",
    "autoencoder.add(Dense(32,activation='relu'))\n",
    "autoencoder.add(Dense(11,activation='linear'))"
   ]
  },
  {
   "cell_type": "code",
   "execution_count": 29,
   "metadata": {},
   "outputs": [
    {
     "name": "stdout",
     "output_type": "stream",
     "text": [
      "Model: \"sequential\"\n",
      "_________________________________________________________________\n",
      "Layer (type)                 Output Shape              Param #   \n",
      "=================================================================\n",
      "dense (Dense)                (None, 32)                384       \n",
      "_________________________________________________________________\n",
      "dense_1 (Dense)              (None, 6)                 198       \n",
      "_________________________________________________________________\n",
      "dense_2 (Dense)              (None, 6)                 42        \n",
      "_________________________________________________________________\n",
      "dense_3 (Dense)              (None, 32)                224       \n",
      "_________________________________________________________________\n",
      "dense_4 (Dense)              (None, 11)                363       \n",
      "=================================================================\n",
      "Total params: 1,211\n",
      "Trainable params: 1,211\n",
      "Non-trainable params: 0\n",
      "_________________________________________________________________\n"
     ]
    }
   ],
   "source": [
    "autoencoder.summary()"
   ]
  },
  {
   "cell_type": "code",
   "execution_count": 40,
   "metadata": {},
   "outputs": [],
   "source": [
    "autoencoder.compile(metrics=['accuracy'],loss='mean_squared_error',optimizer='adam')"
   ]
  },
  {
   "cell_type": "code",
   "execution_count": 46,
   "metadata": {},
   "outputs": [],
   "source": [
    "filepath=\"models/standardized-autoencoder-weights-improvement-{epoch:02d}-{val_accuracy:.2f}.hdf5\"\n",
    "checkpoint = ModelCheckpoint(filepath,monitor='val_accuracy',verbose=1,save_best_only=True,mode='max')\n",
    "callbacks_list_standard_autoencoder = [checkpoint]"
   ]
  },
  {
   "cell_type": "code",
   "execution_count": 57,
   "metadata": {},
   "outputs": [
    {
     "name": "stdout",
     "output_type": "stream",
     "text": [
      "Train on 4066820 samples, validate on 1016705 samples\n",
      "Epoch 1/5\n",
      "4066816/4066820 [============================>.] - ETA: 0s - loss: 0.0057 - accuracy: 0.9890\n",
      "Epoch 00001: val_accuracy improved from 0.94901 to 0.99549, saving model to models/standard-autoencoder-weights-improvement-01-1.00.hdf5\n",
      "4066820/4066820 [==============================] - 389s 96us/sample - loss: 0.0057 - accuracy: 0.9890 - val_loss: 0.0023 - val_accuracy: 0.9955\n",
      "Epoch 2/5\n",
      "4066272/4066820 [============================>.] - ETA: 0s - loss: 0.0022 - accuracy: 0.9948\n",
      "Epoch 00002: val_accuracy did not improve from 0.99549\n",
      "4066820/4066820 [==============================] - 395s 97us/sample - loss: 0.0022 - accuracy: 0.9948 - val_loss: 0.0019 - val_accuracy: 0.9934\n",
      "Epoch 3/5\n",
      "4066240/4066820 [============================>.] - ETA: 0s - loss: 0.0019 - accuracy: 0.9950\n",
      "Epoch 00003: val_accuracy did not improve from 0.99549\n",
      "4066820/4066820 [==============================] - 408s 100us/sample - loss: 0.0019 - accuracy: 0.9950 - val_loss: 0.0019 - val_accuracy: 0.9949\n",
      "Epoch 4/5\n",
      "4066336/4066820 [============================>.] - ETA: 0s - loss: 0.0016 - accuracy: 0.9958\n",
      "Epoch 00004: val_accuracy improved from 0.99549 to 0.99772, saving model to models/standard-autoencoder-weights-improvement-04-1.00.hdf5\n",
      "4066820/4066820 [==============================] - 397s 98us/sample - loss: 0.0016 - accuracy: 0.9958 - val_loss: 8.4494e-04 - val_accuracy: 0.9977\n",
      "Epoch 5/5\n",
      "4066688/4066820 [============================>.] - ETA: 0s - loss: 0.0017 - accuracy: 0.9956\n",
      "Epoch 00005: val_accuracy improved from 0.99772 to 0.99795, saving model to models/standard-autoencoder-weights-improvement-05-1.00.hdf5\n",
      "4066820/4066820 [==============================] - 603s 148us/sample - loss: 0.0017 - accuracy: 0.9956 - val_loss: 8.6376e-04 - val_accuracy: 0.9979\n"
     ]
    }
   ],
   "source": [
    "standard_fit_ae = autoencoder.fit(standard_x_train_ae,standard_x_train_ae,\n",
    "                                  callbacks=callbacks_list_standard_autoencoder,\n",
    "                                  batch_size=batch_bin,shuffle=True,epochs=5,validation_split=0.2)"
   ]
  },
  {
   "cell_type": "code",
   "execution_count": 59,
   "metadata": {},
   "outputs": [],
   "source": [
    "standardized_autoencoder_y_pred = autoencoder.predict_classes(standard_x_test_ae)"
   ]
  },
  {
   "cell_type": "code",
   "execution_count": 63,
   "metadata": {},
   "outputs": [
    {
     "name": "stdout",
     "output_type": "stream",
     "text": [
      "Percent of true positives: nan%\n",
      "Percent of false negatives: nan%\n",
      "Percent of true negatives: 88.98%\n",
      "Percent of false positives: 11.02%\n"
     ]
    },
    {
     "name": "stderr",
     "output_type": "stream",
     "text": [
      "C:\\ProgramData\\Anaconda3\\envs\\tensorflow_env\\lib\\site-packages\\ipykernel_launcher.py:6: RuntimeWarning: invalid value encountered in longlong_scalars\n",
      "  \n",
      "C:\\ProgramData\\Anaconda3\\envs\\tensorflow_env\\lib\\site-packages\\ipykernel_launcher.py:7: RuntimeWarning: invalid value encountered in longlong_scalars\n",
      "  import sys\n"
     ]
    },
    {
     "data": {
      "text/html": [
       "<div>\n",
       "<style scoped>\n",
       "    .dataframe tbody tr th:only-of-type {\n",
       "        vertical-align: middle;\n",
       "    }\n",
       "\n",
       "    .dataframe tbody tr th {\n",
       "        vertical-align: top;\n",
       "    }\n",
       "\n",
       "    .dataframe thead th {\n",
       "        text-align: right;\n",
       "    }\n",
       "</style>\n",
       "<table border=\"1\" class=\"dataframe\">\n",
       "  <thead>\n",
       "    <tr style=\"text-align: right;\">\n",
       "      <th></th>\n",
       "      <th>Pred Fraud</th>\n",
       "      <th>Pred Non-Fraud</th>\n",
       "    </tr>\n",
       "  </thead>\n",
       "  <tbody>\n",
       "    <tr>\n",
       "      <th>Actual Fraud</th>\n",
       "      <td>0</td>\n",
       "      <td>0</td>\n",
       "    </tr>\n",
       "    <tr>\n",
       "      <th>Actual Non-Fraud</th>\n",
       "      <td>7193</td>\n",
       "      <td>58056</td>\n",
       "    </tr>\n",
       "  </tbody>\n",
       "</table>\n",
       "</div>"
      ],
      "text/plain": [
       "                  Pred Fraud  Pred Non-Fraud\n",
       "Actual Fraud               0               0\n",
       "Actual Non-Fraud        7193           58056"
      ]
     },
     "execution_count": 63,
     "metadata": {},
     "output_type": "execute_result"
    }
   ],
   "source": [
    "print_confusion_matrix(y_test_ae,standardized_autoencoder_x_pred)"
   ]
  },
  {
   "cell_type": "code",
   "execution_count": 1,
   "metadata": {},
   "outputs": [
    {
     "ename": "NameError",
     "evalue": "name 'plot_learningCurve' is not defined",
     "output_type": "error",
     "traceback": [
      "\u001b[1;31m---------------------------------------------------------------------------\u001b[0m",
      "\u001b[1;31mNameError\u001b[0m                                 Traceback (most recent call last)",
      "\u001b[1;32m<ipython-input-1-62b4a1996e65>\u001b[0m in \u001b[0;36m<module>\u001b[1;34m\u001b[0m\n\u001b[1;32m----> 1\u001b[1;33m \u001b[0mplot_learningCurve\u001b[0m\u001b[1;33m(\u001b[0m\u001b[0mstandard_fit_ae\u001b[0m\u001b[1;33m,\u001b[0m\u001b[0mnum_epochs\u001b[0m\u001b[1;33m)\u001b[0m\u001b[1;33m\u001b[0m\u001b[1;33m\u001b[0m\u001b[0m\n\u001b[0m",
      "\u001b[1;31mNameError\u001b[0m: name 'plot_learningCurve' is not defined"
     ]
    }
   ],
   "source": [
    "plot_learningCurve(standard_fit_ae,num_epochs)"
   ]
  },
  {
   "cell_type": "code",
   "execution_count": null,
   "metadata": {},
   "outputs": [],
   "source": [
    "# save nornalized imbalanced_ann model\n",
    "# serialize model to JSON\n",
    "with open(\"models/standardized_autoencoder.json\", \"w\") as json_file:\n",
    "    json_file.write(autoencoder.to_json())\n",
    "# serialize weights to HDF5\n",
    "autoencoder.save_weights(\"models/standardized_autoencoder.h5\")"
   ]
  }
 ],
 "metadata": {
  "kernelspec": {
   "display_name": "Python 3",
   "language": "python",
   "name": "python3"
  },
  "language_info": {
   "codemirror_mode": {
    "name": "ipython",
    "version": 3
   },
   "file_extension": ".py",
   "mimetype": "text/x-python",
   "name": "python",
   "nbconvert_exporter": "python",
   "pygments_lexer": "ipython3",
   "version": "3.6.8"
  }
 },
 "nbformat": 4,
 "nbformat_minor": 4
}
